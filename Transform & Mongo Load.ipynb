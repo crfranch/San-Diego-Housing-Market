{
 "cells": [
  {
   "cell_type": "code",
   "execution_count": 216,
   "metadata": {},
   "outputs": [],
   "source": [
    "import pandas as pd\n",
    "import numpy as np"
   ]
  },
  {
   "cell_type": "code",
   "execution_count": 217,
   "metadata": {},
   "outputs": [
    {
     "data": {
      "text/plain": [
       "address            object\n",
       "city               object\n",
       "state              object\n",
       "zip                 int64\n",
       "price             float64\n",
       "sqft              float64\n",
       "bedrooms          float64\n",
       "bathrooms         float64\n",
       "days_on_zillow    float64\n",
       "sale_type          object\n",
       "url                object\n",
       "dtype: object"
      ]
     },
     "execution_count": 217,
     "metadata": {},
     "output_type": "execute_result"
    }
   ],
   "source": [
    "zillow_scrape=pd.read_csv('ZIllow Scrape SD 2019-04-14_184131.csv')\n",
    "zillow_scrape.head()\n",
    "zillow_scrape.dtypes"
   ]
  },
  {
   "cell_type": "code",
   "execution_count": 218,
   "metadata": {},
   "outputs": [
    {
     "data": {
      "text/html": [
       "<div>\n",
       "<style scoped>\n",
       "    .dataframe tbody tr th:only-of-type {\n",
       "        vertical-align: middle;\n",
       "    }\n",
       "\n",
       "    .dataframe tbody tr th {\n",
       "        vertical-align: top;\n",
       "    }\n",
       "\n",
       "    .dataframe thead th {\n",
       "        text-align: right;\n",
       "    }\n",
       "</style>\n",
       "<table border=\"1\" class=\"dataframe\">\n",
       "  <thead>\n",
       "    <tr style=\"text-align: right;\">\n",
       "      <th></th>\n",
       "      <th>neighborhood</th>\n",
       "      <th>SQFT</th>\n",
       "      <th>year built</th>\n",
       "      <th>Parcel ID</th>\n",
       "      <th>Property Class</th>\n",
       "      <th>Legal Description</th>\n",
       "      <th>units</th>\n",
       "      <th>bath</th>\n",
       "      <th>bed</th>\n",
       "      <th>zip</th>\n",
       "      <th>Street Address</th>\n",
       "      <th>City</th>\n",
       "    </tr>\n",
       "  </thead>\n",
       "  <tbody>\n",
       "    <tr>\n",
       "      <th>0</th>\n",
       "      <td>Rancho Del Rey</td>\n",
       "      <td>2143.0</td>\n",
       "      <td>1979.0</td>\n",
       "      <td>640-141-22-00</td>\n",
       "      <td>Single Family Residence (11)</td>\n",
       "      <td>LOT 19</td>\n",
       "      <td>1.0</td>\n",
       "      <td>2.5</td>\n",
       "      <td>4.0</td>\n",
       "      <td>91910</td>\n",
       "      <td>922 Calma Dr</td>\n",
       "      <td>Chula Vista</td>\n",
       "    </tr>\n",
       "    <tr>\n",
       "      <th>1</th>\n",
       "      <td>Rancho Del Rey</td>\n",
       "      <td>3551.0</td>\n",
       "      <td>2000.0</td>\n",
       "      <td>593-372-29-00</td>\n",
       "      <td>Single Family Residence (11)</td>\n",
       "      <td>LOT 73</td>\n",
       "      <td>1.0</td>\n",
       "      <td>3.0</td>\n",
       "      <td>5.0</td>\n",
       "      <td>91910</td>\n",
       "      <td>933 Palencia Pl</td>\n",
       "      <td>Chula Vista</td>\n",
       "    </tr>\n",
       "    <tr>\n",
       "      <th>2</th>\n",
       "      <td>Rancho Del Rey</td>\n",
       "      <td>3466.0</td>\n",
       "      <td>1997.0</td>\n",
       "      <td>593-400-01-00</td>\n",
       "      <td>Single Family Residence (11)</td>\n",
       "      <td>LOT 2</td>\n",
       "      <td>1.0</td>\n",
       "      <td>3.0</td>\n",
       "      <td>5.0</td>\n",
       "      <td>91910</td>\n",
       "      <td>707 Terra Nova Dr</td>\n",
       "      <td>Chula Vista</td>\n",
       "    </tr>\n",
       "    <tr>\n",
       "      <th>3</th>\n",
       "      <td>Rancho Del Rey</td>\n",
       "      <td>2671.0</td>\n",
       "      <td>2001.0</td>\n",
       "      <td>640-380-07-00</td>\n",
       "      <td>Single Family Residence (11)</td>\n",
       "      <td>LOT 7</td>\n",
       "      <td>1.0</td>\n",
       "      <td>3.0</td>\n",
       "      <td>4.0</td>\n",
       "      <td>91910</td>\n",
       "      <td>993 Via Sinuoso</td>\n",
       "      <td>Chula Vista</td>\n",
       "    </tr>\n",
       "    <tr>\n",
       "      <th>4</th>\n",
       "      <td>Terra Nova</td>\n",
       "      <td>2762.0</td>\n",
       "      <td>1986.0</td>\n",
       "      <td>592-183-18-00</td>\n",
       "      <td>Single Family Residence (11)</td>\n",
       "      <td>LOT 300</td>\n",
       "      <td>1.0</td>\n",
       "      <td>3.0</td>\n",
       "      <td>4.0</td>\n",
       "      <td>91910</td>\n",
       "      <td>522 Beacon Pl</td>\n",
       "      <td>Chula Vista</td>\n",
       "    </tr>\n",
       "  </tbody>\n",
       "</table>\n",
       "</div>"
      ],
      "text/plain": [
       "     neighborhood    SQFT  year built      Parcel ID  \\\n",
       "0  Rancho Del Rey  2143.0      1979.0  640-141-22-00   \n",
       "1  Rancho Del Rey  3551.0      2000.0  593-372-29-00   \n",
       "2  Rancho Del Rey  3466.0      1997.0  593-400-01-00   \n",
       "3  Rancho Del Rey  2671.0      2001.0  640-380-07-00   \n",
       "4      Terra Nova  2762.0      1986.0  592-183-18-00   \n",
       "\n",
       "                 Property Class Legal Description  units  bath  bed    zip  \\\n",
       "0  Single Family Residence (11)            LOT 19    1.0   2.5  4.0  91910   \n",
       "1  Single Family Residence (11)            LOT 73    1.0   3.0  5.0  91910   \n",
       "2  Single Family Residence (11)             LOT 2    1.0   3.0  5.0  91910   \n",
       "3  Single Family Residence (11)             LOT 7    1.0   3.0  4.0  91910   \n",
       "4  Single Family Residence (11)           LOT 300    1.0   3.0  4.0  91910   \n",
       "\n",
       "      Street Address         City  \n",
       "0       922 Calma Dr  Chula Vista  \n",
       "1    933 Palencia Pl  Chula Vista  \n",
       "2  707 Terra Nova Dr  Chula Vista  \n",
       "3    993 Via Sinuoso  Chula Vista  \n",
       "4      522 Beacon Pl  Chula Vista  "
      ]
     },
     "execution_count": 218,
     "metadata": {},
     "output_type": "execute_result"
    }
   ],
   "source": [
    "shark_scrape=pd.read_csv('property_shark_excel_clean.csv')\n",
    "\n",
    "shark_scrape['SQFT'] = shark_scrape['SQFT'].replace(',','',regex=True).astype(float)\n",
    "\n",
    "shark_scrape=shark_scrape.drop(['Acorage'],axis=1)\n",
    "\n",
    "for index, row in shark_scrape.iterrows():\n",
    "    shark_scrape.loc[index,\"Street Address\"]= shark_scrape.loc[index,\"address\"].split(',')[0]\n",
    "    shark_scrape.loc[index,\"City\"]= shark_scrape.loc[index,\"address\"].split(',')[1].strip('\\n')\n",
    "    shark_scrape.loc[index,\"City\"]= shark_scrape.loc[index,\"address\"].split(',')[1].strip('\\n')\n",
    "\n",
    "shark_scrape=shark_scrape.drop(['address'],axis=1)    \n",
    "    \n",
    "shark_scrape.head()"
   ]
  },
  {
   "cell_type": "code",
   "execution_count": 219,
   "metadata": {},
   "outputs": [
    {
     "data": {
      "text/plain": [
       "Index(['address', 'city', 'state', 'zip_zillow', 'price', 'sqft', 'bedrooms',\n",
       "       'bathrooms', 'days_on_zillow', 'sale_type', 'url', 'neighborhood',\n",
       "       'SQFT', 'year built', 'Parcel ID', 'Property Class',\n",
       "       'Legal Description', 'units', 'bath', 'bed', 'zip_prop_shark',\n",
       "       'Street Address', 'City'],\n",
       "      dtype='object')"
      ]
     },
     "execution_count": 219,
     "metadata": {},
     "output_type": "execute_result"
    }
   ],
   "source": [
    "houses_merge=zillow_scrape.merge(shark_scrape, left_on='address', right_on='Street Address',suffixes=('_zillow', '_prop_shark'))\n",
    "\n",
    "houses_merge.columns\n",
    "\n",
    "# Find out how to convert dataframe to JSON, then push JSON to mongo\n"
   ]
  },
  {
   "cell_type": "code",
   "execution_count": 220,
   "metadata": {},
   "outputs": [
    {
     "data": {
      "text/plain": [
       "<pymongo.results.InsertManyResult at 0x126592c48>"
      ]
     },
     "execution_count": 220,
     "metadata": {},
     "output_type": "execute_result"
    }
   ],
   "source": [
    "# Left off here\n",
    "\n",
    "import json\n",
    "from pymongo import MongoClient\n",
    "\n",
    "client = MongoClient('localhost', 27017)\n",
    "db = client['SD_housing']\n",
    "collection_houses = db['house_data']\n",
    "\n",
    "collection_houses.drop()\n",
    "\n",
    "collection_houses.insert_many(houses_merge.to_dict(\"records\"))"
   ]
  },
  {
   "cell_type": "code",
   "execution_count": null,
   "metadata": {},
   "outputs": [],
   "source": [
    "# # Use this & some loops to push to mongo\n",
    "\n",
    "# # Import our pymongo library, which lets us connect our Flask app to our Mongo database.\n",
    "# import pymongo\n",
    "\n",
    "# # Create connection variable\n",
    "# conn = 'mongodb://localhost:27017'\n",
    "\n",
    "# # Pass connection to the pymongo instance.\n",
    "# client = pymongo.MongoClient(conn)\n",
    "\n",
    "# # Connect to a database. Will create one if not already available.\n",
    "# db = client.SD_housing\n",
    "\n",
    "# # Drops collection if available to remove duplicates\n",
    "# db.zip_data.drop()\n",
    "\n",
    "# # Creates a collection in the database and inserts two documents\n",
    "# db.team.insert_many(\n",
    "#     [\n",
    "#         {\n",
    "#             'player': 'Jessica',\n",
    "#             'position': 'Point Guard'\n",
    "#         },\n",
    "#         {\n",
    "#             'player': 'Mark',\n",
    "#             'position': 'Center'\n",
    "#         }\n",
    "#     ]\n",
    "# )"
   ]
  },
  {
   "cell_type": "code",
   "execution_count": 155,
   "metadata": {},
   "outputs": [],
   "source": [
    "# Drop DB if necessary\n"
   ]
  }
 ],
 "metadata": {
  "kernelspec": {
   "display_name": "Python 3",
   "language": "python",
   "name": "python3"
  },
  "language_info": {
   "codemirror_mode": {
    "name": "ipython",
    "version": 3
   },
   "file_extension": ".py",
   "mimetype": "text/x-python",
   "name": "python",
   "nbconvert_exporter": "python",
   "pygments_lexer": "ipython3",
   "version": "3.7.2"
  }
 },
 "nbformat": 4,
 "nbformat_minor": 2
}
